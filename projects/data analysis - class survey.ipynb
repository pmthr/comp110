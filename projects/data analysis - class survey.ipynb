{
 "cells": [
  {
   "cell_type": "code",
   "execution_count": 2,
   "metadata": {},
   "outputs": [],
   "source": [
    "%reload_ext autoreload\n",
    "%autoreload 2"
   ]
  },
  {
   "cell_type": "markdown",
   "metadata": {},
   "source": [
    "# Hypothesis\n",
    "\n",
    "Juniors less likely to complete each lecture's lessons during the hours of the day registered for the course than freshmen."
   ]
  },
  {
   "cell_type": "markdown",
   "metadata": {},
   "source": [
    "## Methodology\n",
    "\n",
    "First, I will read the CSV file and convert it to a column-oriented data table."
   ]
  },
  {
   "cell_type": "code",
   "execution_count": 15,
   "metadata": {},
   "outputs": [],
   "source": [
    "from EX07 import read_csv_rows, columnar\n",
    "\n",
    "data_rows: list[dict[str, str]] = read_csv_rows(\"survey.csv\")\n",
    "columns: dict[str, list[str]] = columnar(data_rows)"
   ]
  },
  {
   "cell_type": "markdown",
   "metadata": {},
   "source": [
    "Next, I will select just the graduation year and lesson_time columns. Here are the first 10 values:"
   ]
  },
  {
   "cell_type": "code",
   "execution_count": 17,
   "metadata": {},
   "outputs": [
    {
     "data": {
      "text/plain": [
       "{'year': ['23', '24', '23', '24', '22', '24', '22', '24', '24', '22'],\n",
       " 'lesson_time': ['5', '4', '2', '2', '3', '6', '2', '7', '6', '2']}"
      ]
     },
     "execution_count": 17,
     "metadata": {},
     "output_type": "execute_result"
    }
   ],
   "source": [
    "from EX07 import head, select\n",
    "subset: dict[str, list[str]] = select(columns, [\"year\", \"lesson_time\"])\n",
    "head(subset, 10)"
   ]
  },
  {
   "cell_type": "markdown",
   "metadata": {},
   "source": [
    "Now, I will find the average Likert scale response filter per graduation year for comparison. First I call the helper function for the class of 2025, then the class of 2022."
   ]
  },
  {
   "cell_type": "code",
   "execution_count": 24,
   "metadata": {},
   "outputs": [
    {
     "data": {
      "text/plain": [
       "4.763440860215054"
      ]
     },
     "execution_count": 24,
     "metadata": {},
     "output_type": "execute_result"
    }
   ],
   "source": [
    "from EX07 import average_only_year\n",
    "average_only_year(25, (subset[\"year\"]), subset[\"lesson_time\"])"
   ]
  },
  {
   "cell_type": "code",
   "execution_count": 25,
   "metadata": {},
   "outputs": [
    {
     "data": {
      "text/plain": [
       "4.243243243243243"
      ]
     },
     "execution_count": 25,
     "metadata": {},
     "output_type": "execute_result"
    }
   ],
   "source": [
    "from EX07 import average_only_year\n",
    "average_only_year(22, (subset[\"year\"]), subset[\"lesson_time\"])"
   ]
  },
  {
   "cell_type": "markdown",
   "metadata": {},
   "source": [
    "# Conclusion\n",
    "\n",
    "Based on the findings calculated above, the class of 2025, freshmen, were more likely to complete each lecture's lessons during the hours of the day registered for the course, than the class of 2022, juniors. Although there is a 0.52 point difference in the average scores reported, both scores were in the middle of the overall Likert scale. Looking at the visualization of average scores for all 4 years, there seems to be no clear correlation between graduation year and the score given. \n"
   ]
  },
  {
   "cell_type": "code",
   "execution_count": 35,
   "metadata": {},
   "outputs": [
    {
     "data": {
      "image/png": "[encoded data removed]",
      "text/plain": [
       "<Figure size 864x288 with 1 Axes>"
      ]
     },
     "metadata": {
      "needs_background": "light"
     },
     "output_type": "display_data"
    }
   ],
   "source": [
    "from matplotlib import pyplot as plt\n",
    "from EX07 import average_only_year\n",
    "fig, axes = plt.subplots(1, figsize=(12, 4), sharey=True)\n",
    "fig.suptitle(\"Average likelihood of current students completing lecture lessons during registered hours\")\n",
    "\n",
    "lesson_time: dict[str, float] = {}\n",
    "lesson_time[\"2025\"] = average_only_year(25, (subset[\"year\"]), subset[\"lesson_time\"])\n",
    "lesson_time[\"2024\"] = average_only_year(24, (subset[\"year\"]), subset[\"lesson_time\"])\n",
    "lesson_time[\"2023\"] = average_only_year(23, (subset[\"year\"]), subset[\"lesson_time\"])\n",
    "lesson_time[\"2022\"] = average_only_year(22, (subset[\"year\"]), subset[\"lesson_time\"])\n",
    "\n",
    "axes.set_title(\"By Year\")\n",
    "axes.bar(lesson_time.keys(), lesson_time.values())\n",
    "axes.tick_params(axis='x', labelrotation = 45)\n"
   ]
  }
 ],
 "metadata": {
  "interpreter": {
   "hash": "8f6a0e1f04aa3b70c576e3194eb84e63d69897b135f4f3d33843372c92f689b0"
  },
  "kernelspec": {
   "display_name": "Python 3.9.6 64-bit",
   "name": "python3"
  },
  "language_info": {
   "codemirror_mode": {
    "name": "ipython",
    "version": 3
   },
   "file_extension": ".py",
   "mimetype": "text/x-python",
   "name": "python",
   "nbconvert_exporter": "python",
   "pygments_lexer": "ipython3",
   "version": "3.9.6"
  },
  "orig_nbformat": 4
 },
 "nbformat": 4,
 "nbformat_minor": 2
}
